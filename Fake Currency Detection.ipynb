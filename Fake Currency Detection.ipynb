{
 "cells": [
  {
   "cell_type": "code",
   "execution_count": 1,
   "metadata": {
    "executionInfo": {
     "elapsed": 4,
     "status": "ok",
     "timestamp": 1724598171450,
     "user": {
      "displayName": "Prerna Rohra",
      "userId": "01587199954450201671"
     },
     "user_tz": -300
    },
    "id": "2q-x3G4MPnwb"
   },
   "outputs": [],
   "source": [
    "folder_path = 'Indian Currency Dataset'"
   ]
  },
  {
   "cell_type": "code",
   "execution_count": 2,
   "metadata": {
    "executionInfo": {
     "elapsed": 12323,
     "status": "ok",
     "timestamp": 1724598185259,
     "user": {
      "displayName": "Prerna Rohra",
      "userId": "01587199954450201671"
     },
     "user_tz": -300
    },
    "id": "4NYcuf7XP3PU"
   },
   "outputs": [],
   "source": [
    "import tensorflow as tf\n",
    "from tensorflow.keras.preprocessing.image import ImageDataGenerator\n",
    "from sklearn.model_selection import train_test_split\n",
    "import os\n",
    "import shutil\n",
    "from PIL import Image\n",
    "import numpy as np"
   ]
  },
  {
   "cell_type": "code",
   "execution_count": 3,
   "metadata": {
    "executionInfo": {
     "elapsed": 507,
     "status": "ok",
     "timestamp": 1724598188295,
     "user": {
      "displayName": "Prerna Rohra",
      "userId": "01587199954450201671"
     },
     "user_tz": -300
    },
    "id": "Ui6YJD7IP6Hh"
   },
   "outputs": [],
   "source": [
    "datagen = ImageDataGenerator(\n",
    "    rescale=1./255,\n",
    "    rotation_range=20,\n",
    "    width_shift_range=0.2,\n",
    "    height_shift_range=0.2,\n",
    "    shear_range=0.2,\n",
    "    zoom_range=0.2,\n",
    "    horizontal_flip=True,\n",
    "    fill_mode='nearest'\n",
    ")"
   ]
  },
  {
   "cell_type": "code",
   "execution_count": 4,
   "metadata": {
    "executionInfo": {
     "elapsed": 6,
     "status": "ok",
     "timestamp": 1724598190152,
     "user": {
      "displayName": "Prerna Rohra",
      "userId": "01587199954450201671"
     },
     "user_tz": -300
    },
    "id": "84--yecUQGTP"
   },
   "outputs": [],
   "source": [
    "train = os.path.join(folder_path, 'train')\n",
    "test = os.path.join(folder_path, 'test')"
   ]
  },
  {
   "cell_type": "code",
   "execution_count": 5,
   "metadata": {
    "executionInfo": {
     "elapsed": 3,
     "status": "ok",
     "timestamp": 1724598191821,
     "user": {
      "displayName": "Prerna Rohra",
      "userId": "01587199954450201671"
     },
     "user_tz": -300
    },
    "id": "Yjnf0OjiC8do"
   },
   "outputs": [],
   "source": [
    "train_fake = os.path.join(train, 'fake')\n",
    "train_real = os.path.join(train, 'real')"
   ]
  },
  {
   "cell_type": "code",
   "execution_count": 6,
   "metadata": {
    "executionInfo": {
     "elapsed": 4,
     "status": "ok",
     "timestamp": 1724598193215,
     "user": {
      "displayName": "Prerna Rohra",
      "userId": "01587199954450201671"
     },
     "user_tz": -300
    },
    "id": "5zCgtGgQC84d"
   },
   "outputs": [],
   "source": [
    "train_fake_images = [os.path.join(train_fake, img) for img in os.listdir(train_fake)]\n",
    "train_real_images = [os.path.join(train_real, img) for img in os.listdir(train_real)]"
   ]
  },
  {
   "cell_type": "code",
   "execution_count": 7,
   "metadata": {
    "executionInfo": {
     "elapsed": 5,
     "status": "ok",
     "timestamp": 1724598195265,
     "user": {
      "displayName": "Prerna Rohra",
      "userId": "01587199954450201671"
     },
     "user_tz": -300
    },
    "id": "nwt6sHl_C9Rt"
   },
   "outputs": [],
   "source": [
    "train_fake, val_fake = train_test_split(train_fake_images, test_size=0.15, random_state=42)\n",
    "train_real, val_real = train_test_split(train_real_images, test_size=0.15, random_state=42)"
   ]
  },
  {
   "cell_type": "code",
   "execution_count": 8,
   "metadata": {
    "executionInfo": {
     "elapsed": 3,
     "status": "ok",
     "timestamp": 1724598197107,
     "user": {
      "displayName": "Prerna Rohra",
      "userId": "01587199954450201671"
     },
     "user_tz": -300
    },
    "id": "fVYNSg-_C9rG"
   },
   "outputs": [],
   "source": [
    "train_images = train_fake + train_real\n",
    "val_images = val_fake + val_real"
   ]
  },
  {
   "cell_type": "code",
   "execution_count": 9,
   "metadata": {
    "executionInfo": {
     "elapsed": 3,
     "status": "ok",
     "timestamp": 1724598198747,
     "user": {
      "displayName": "Prerna Rohra",
      "userId": "01587199954450201671"
     },
     "user_tz": -300
    },
    "id": "V1r7DjnoC-DK"
   },
   "outputs": [],
   "source": [
    "validation = os.path.join(folder_path, 'validation')\n",
    "os.makedirs(validation, exist_ok=True)"
   ]
  },
  {
   "cell_type": "code",
   "execution_count": 10,
   "metadata": {
    "executionInfo": {
     "elapsed": 3,
     "status": "ok",
     "timestamp": 1724598200230,
     "user": {
      "displayName": "Prerna Rohra",
      "userId": "01587199954450201671"
     },
     "user_tz": -300
    },
    "id": "IJ1V6IucDLI0"
   },
   "outputs": [],
   "source": [
    "val_fake = os.path.join(validation, 'fake')\n",
    "val_real = os.path.join(validation, 'real')\n",
    "os.makedirs(val_fake, exist_ok=True)\n",
    "os.makedirs(val_real, exist_ok=True)"
   ]
  },
  {
   "cell_type": "code",
   "execution_count": 11,
   "metadata": {
    "executionInfo": {
     "elapsed": 1200,
     "status": "ok",
     "timestamp": 1724598202845,
     "user": {
      "displayName": "Prerna Rohra",
      "userId": "01587199954450201671"
     },
     "user_tz": -300
    },
    "id": "N1kNQwiSDLjO"
   },
   "outputs": [],
   "source": [
    "import os\n",
    "import shutil\n",
    "import glob\n",
    "\n",
    "# Define your actual source folder\n",
    "source_folder = r\"D:\\AIR FORCE COMPUTER\\Desktop\\Projects\\Face Detection\\Fake-Currency-Checker\\Indian Currency Dataset\\validation\\real\"\n",
    "\n",
    "# Collect all image file paths from that folder\n",
    "image_files = glob.glob(os.path.join(source_folder, \"*.jpg\"))  # Change to *.png or *.jpeg if needed\n",
    "\n",
    "# Destination folder (can be the same if you're cleaning or can be another folder)\n",
    "destination_folder = r\"D:\\AIR FORCE COMPUTER\\Desktop\\Projects\\Face Detection\\Fake-Currency-Checker\\Indian Currency Dataset\\validation\\real_cleaned\"\n",
    "os.makedirs(destination_folder, exist_ok=True)\n",
    "\n",
    "# Move images\n",
    "for img_path in image_files:\n",
    "    if os.path.isfile(img_path):\n",
    "        shutil.move(img_path, os.path.join(destination_folder, os.path.basename(img_path)))\n",
    "    else:\n",
    "        print(f\"File not found: {img_path}\")\n"
   ]
  },
  {
   "cell_type": "code",
   "execution_count": 12,
   "metadata": {
    "colab": {
     "base_uri": "https://localhost:8080/"
    },
    "executionInfo": {
     "elapsed": 12,
     "status": "ok",
     "timestamp": 1724598206638,
     "user": {
      "displayName": "Prerna Rohra",
      "userId": "01587199954450201671"
     },
     "user_tz": -300
    },
    "id": "F_pDGcEKVG-K",
    "outputId": "f0caa1b4-daf9-46c9-f7a5-546590f647de"
   },
   "outputs": [
    {
     "name": "stdout",
     "output_type": "stream",
     "text": [
      "Train set size: 127\n",
      "Validation set size: 23\n"
     ]
    }
   ],
   "source": [
    "print(f'Train set size: {len(train_images)}')\n",
    "print(f'Validation set size: {len(val_images)}')"
   ]
  },
  {
   "cell_type": "code",
   "execution_count": 13,
   "metadata": {
    "colab": {
     "base_uri": "https://localhost:8080/"
    },
    "executionInfo": {
     "elapsed": 527,
     "status": "ok",
     "timestamp": 1724598209818,
     "user": {
      "displayName": "Prerna Rohra",
      "userId": "01587199954450201671"
     },
     "user_tz": -300
    },
    "id": "LSmwNiAiSa3b",
    "outputId": "42ad2dd7-6973-49b5-af73-c1ca0e7213a2"
   },
   "outputs": [
    {
     "name": "stdout",
     "output_type": "stream",
     "text": [
      "Found 150 images belonging to 2 classes.\n",
      "Found 60 images belonging to 2 classes.\n",
      "Found 107 images belonging to 2 classes.\n"
     ]
    }
   ],
   "source": [
    "batch_size = 32\n",
    "target_size = (224, 224)\n",
    "\n",
    "\n",
    "import os\n",
    "import shutil\n",
    "import glob\n",
    "\n",
    "# Define your actual source folder\n",
    "source_folder = r\"D:\\AIR FORCE COMPUTER\\Desktop\\Projects\\Face Detection\\Fake-Currency-Checker\\Indian Currency Dataset\\validation\\real\"\n",
    "\n",
    "# Collect all image file paths from that folder\n",
    "image_files = glob.glob(os.path.join(source_folder, \"*.jpg\"))  # Change to *.png or *.jpeg if needed\n",
    "\n",
    "# Destination folder (can be the same if you're cleaning or can be another folder)\n",
    "destination_folder = r\"D:\\AIR FORCE COMPUTER\\Desktop\\Projects\\Face Detection\\Fake-Currency-Checker\\Indian Currency Dataset\\validation\\real_cleaned\"\n",
    "os.makedirs(destination_folder, exist_ok=True)\n",
    "\n",
    "# Move images\n",
    "for img_path in image_files:\n",
    "    if os.path.isfile(img_path):\n",
    "        shutil.move(img_path, os.path.join(destination_folder, os.path.basename(img_path)))\n",
    "    else:\n",
    "        print(f\"File not found: {img_path}\")\n",
    "train_generator = datagen.flow_from_directory(\n",
    "    train,\n",
    "    target_size=target_size,\n",
    "    batch_size=batch_size,\n",
    "    class_mode='binary',\n",
    "    shuffle=True,\n",
    "    seed=42\n",
    ")\n",
    "\n",
    "validation_generator = datagen.flow_from_directory(\n",
    "    validation,\n",
    "    target_size=target_size,\n",
    "    batch_size=batch_size,\n",
    "    class_mode='binary',\n",
    "    shuffle=False,\n",
    "    seed=42\n",
    ")\n",
    "\n",
    "test_generator = datagen.flow_from_directory(\n",
    "    test,\n",
    "    target_size=target_size,\n",
    "    batch_size=batch_size,\n",
    "    class_mode='binary',\n",
    "    shuffle=False,\n",
    "    seed=42\n",
    ")"
   ]
  },
  {
   "cell_type": "code",
   "execution_count": 14,
   "metadata": {
    "colab": {
     "base_uri": "https://localhost:8080/"
    },
    "executionInfo": {
     "elapsed": 528,
     "status": "ok",
     "timestamp": 1724598235109,
     "user": {
      "displayName": "Prerna Rohra",
      "userId": "01587199954450201671"
     },
     "user_tz": -300
    },
    "id": "LUU7JQw5ShLX",
    "outputId": "5237b3b6-fb1b-43d4-aab8-7cdf80086aba"
   },
   "outputs": [
    {
     "name": "stdout",
     "output_type": "stream",
     "text": [
      "['fake', 'real']\n",
      "['fake', 'real']\n",
      "['fake', 'real']\n"
     ]
    }
   ],
   "source": [
    "print(os.listdir(train))\n",
    "print(os.listdir(validation))\n",
    "print(os.listdir(test))"
   ]
  },
  {
   "cell_type": "code",
   "execution_count": 15,
   "metadata": {
    "executionInfo": {
     "elapsed": 1749,
     "status": "ok",
     "timestamp": 1724598238582,
     "user": {
      "displayName": "Prerna Rohra",
      "userId": "01587199954450201671"
     },
     "user_tz": -300
    },
    "id": "oDQ_7CTFCHbW"
   },
   "outputs": [],
   "source": [
    "model = tf.keras.applications.MobileNetV2(input_shape=(224, 224, 3), include_top=False)\n",
    "model.trainable = False"
   ]
  },
  {
   "cell_type": "code",
   "execution_count": 16,
   "metadata": {
    "executionInfo": {
     "elapsed": 5,
     "status": "ok",
     "timestamp": 1724598240479,
     "user": {
      "displayName": "Prerna Rohra",
      "userId": "01587199954450201671"
     },
     "user_tz": -300
    },
    "id": "c_F1-1_GCH8V"
   },
   "outputs": [],
   "source": [
    "flatten_layer = tf.keras.layers.Flatten()(model.output)\n",
    "dropout_layer = tf.keras.layers.Dropout(0.5)(flatten_layer)\n",
    "output_layer = tf.keras.layers.Dense(1, activation='sigmoid')(dropout_layer)\n",
    "\n",
    "model = tf.keras.models.Model(model.input, output_layer)\n",
    "\n",
    "model.compile(optimizer='adam', loss='binary_crossentropy', metrics=['accuracy'])"
   ]
  },
  {
   "cell_type": "code",
   "execution_count": 17,
   "metadata": {
    "colab": {
     "base_uri": "https://localhost:8080/"
    },
    "executionInfo": {
     "elapsed": 152806,
     "status": "ok",
     "timestamp": 1724598396028,
     "user": {
      "displayName": "Prerna Rohra",
      "userId": "01587199954450201671"
     },
     "user_tz": -300
    },
    "id": "VoABNDbwTmKC",
    "outputId": "8406efb5-fad9-4b5a-e0ca-ebeec8c58ace"
   },
   "outputs": [
    {
     "name": "stderr",
     "output_type": "stream",
     "text": [
      "c:\\Users\\AIR FORCE COMPUTER\\AppData\\Local\\Programs\\Python\\Python312\\Lib\\site-packages\\keras\\src\\trainers\\data_adapters\\py_dataset_adapter.py:121: UserWarning: Your `PyDataset` class should call `super().__init__(**kwargs)` in its constructor. `**kwargs` can include `workers`, `use_multiprocessing`, `max_queue_size`. Do not pass these arguments to `fit()`, as they will be ignored.\n",
      "  self._warn_if_super_not_called()\n"
     ]
    },
    {
     "name": "stdout",
     "output_type": "stream",
     "text": [
      "Epoch 1/10\n",
      "\u001b[1m5/5\u001b[0m \u001b[32m━━━━━━━━━━━━━━━━━━━━\u001b[0m\u001b[37m\u001b[0m \u001b[1m46s\u001b[0m 7s/step - accuracy: 0.4702 - loss: 3.1886 - val_accuracy: 0.7500 - val_loss: 1.6634\n",
      "Epoch 2/10\n",
      "\u001b[1m5/5\u001b[0m \u001b[32m━━━━━━━━━━━━━━━━━━━━\u001b[0m\u001b[37m\u001b[0m \u001b[1m25s\u001b[0m 3s/step - accuracy: 0.7316 - loss: 1.7360 - val_accuracy: 0.7833 - val_loss: 1.0984\n",
      "Epoch 3/10\n",
      "\u001b[1m5/5\u001b[0m \u001b[32m━━━━━━━━━━━━━━━━━━━━\u001b[0m\u001b[37m\u001b[0m \u001b[1m14s\u001b[0m 3s/step - accuracy: 0.8136 - loss: 0.7781 - val_accuracy: 0.9167 - val_loss: 0.3575\n",
      "Epoch 4/10\n",
      "\u001b[1m5/5\u001b[0m \u001b[32m━━━━━━━━━━━━━━━━━━━━\u001b[0m\u001b[37m\u001b[0m \u001b[1m15s\u001b[0m 3s/step - accuracy: 0.8119 - loss: 1.1594 - val_accuracy: 0.8167 - val_loss: 0.5596\n",
      "Epoch 5/10\n",
      "\u001b[1m5/5\u001b[0m \u001b[32m━━━━━━━━━━━━━━━━━━━━\u001b[0m\u001b[37m\u001b[0m \u001b[1m16s\u001b[0m 4s/step - accuracy: 0.8380 - loss: 0.9909 - val_accuracy: 0.8000 - val_loss: 0.6815\n",
      "Epoch 6/10\n",
      "\u001b[1m5/5\u001b[0m \u001b[32m━━━━━━━━━━━━━━━━━━━━\u001b[0m\u001b[37m\u001b[0m \u001b[1m16s\u001b[0m 3s/step - accuracy: 0.8640 - loss: 0.6619 - val_accuracy: 0.9000 - val_loss: 0.3852\n",
      "Epoch 7/10\n",
      "\u001b[1m5/5\u001b[0m \u001b[32m━━━━━━━━━━━━━━━━━━━━\u001b[0m\u001b[37m\u001b[0m \u001b[1m11s\u001b[0m 2s/step - accuracy: 0.8511 - loss: 0.6340 - val_accuracy: 0.8500 - val_loss: 0.4616\n",
      "Epoch 8/10\n",
      "\u001b[1m5/5\u001b[0m \u001b[32m━━━━━━━━━━━━━━━━━━━━\u001b[0m\u001b[37m\u001b[0m \u001b[1m11s\u001b[0m 2s/step - accuracy: 0.8860 - loss: 0.3855 - val_accuracy: 0.9167 - val_loss: 0.2303\n",
      "Epoch 9/10\n",
      "\u001b[1m5/5\u001b[0m \u001b[32m━━━━━━━━━━━━━━━━━━━━\u001b[0m\u001b[37m\u001b[0m \u001b[1m11s\u001b[0m 2s/step - accuracy: 0.9191 - loss: 0.3354 - val_accuracy: 0.9167 - val_loss: 0.2744\n",
      "Epoch 10/10\n",
      "\u001b[1m5/5\u001b[0m \u001b[32m━━━━━━━━━━━━━━━━━━━━\u001b[0m\u001b[37m\u001b[0m \u001b[1m11s\u001b[0m 2s/step - accuracy: 0.8899 - loss: 0.4220 - val_accuracy: 0.9167 - val_loss: 0.2573\n"
     ]
    },
    {
     "data": {
      "text/plain": [
       "<keras.src.callbacks.history.History at 0x162356fa2d0>"
      ]
     },
     "execution_count": 17,
     "metadata": {},
     "output_type": "execute_result"
    }
   ],
   "source": [
    "num_epochs = 10\n",
    "model.fit(train_generator, epochs=num_epochs, validation_data=validation_generator)"
   ]
  },
  {
   "cell_type": "code",
   "execution_count": 18,
   "metadata": {
    "colab": {
     "base_uri": "https://localhost:8080/"
    },
    "executionInfo": {
     "elapsed": 12515,
     "status": "ok",
     "timestamp": 1724598411867,
     "user": {
      "displayName": "Prerna Rohra",
      "userId": "01587199954450201671"
     },
     "user_tz": -300
    },
    "id": "ROC1zo0nWWIN",
    "outputId": "443ef710-8405-413c-8538-449d9f88e403"
   },
   "outputs": [
    {
     "name": "stdout",
     "output_type": "stream",
     "text": [
      "\u001b[1m4/4\u001b[0m \u001b[32m━━━━━━━━━━━━━━━━━━━━\u001b[0m\u001b[37m\u001b[0m \u001b[1m6s\u001b[0m 1s/step - accuracy: 0.8991 - loss: 0.4748\n",
      "Test Loss: 0.40755197405815125, Test Accuracy: 0.9065420627593994\n"
     ]
    }
   ],
   "source": [
    "test_loss, test_accuracy = model.evaluate(test_generator)\n",
    "print(f'Test Loss: {test_loss}, Test Accuracy: {test_accuracy}')"
   ]
  },
  {
   "cell_type": "code",
   "execution_count": 19,
   "metadata": {
    "colab": {
     "base_uri": "https://localhost:8080/"
    },
    "executionInfo": {
     "elapsed": 24029,
     "status": "ok",
     "timestamp": 1724598444518,
     "user": {
      "displayName": "Prerna Rohra",
      "userId": "01587199954450201671"
     },
     "user_tz": -300
    },
    "id": "HvpUxmcfhkC7",
    "outputId": "1396e1cd-0009-47ec-e1fa-719d833e3aa9"
   },
   "outputs": [
    {
     "name": "stdout",
     "output_type": "stream",
     "text": [
      "\u001b[1m5/5\u001b[0m \u001b[32m━━━━━━━━━━━━━━━━━━━━\u001b[0m\u001b[37m\u001b[0m \u001b[1m8s\u001b[0m 2s/step - accuracy: 0.9077 - loss: 0.3926\n",
      "Train Loss: 0.4036347568035126, Train Accuracy: 0.9133333563804626\n"
     ]
    }
   ],
   "source": [
    "train_loss, train_accuracy = model.evaluate(train_generator)\n",
    "print(f'Train Loss: {train_loss}, Train Accuracy: {train_accuracy}')"
   ]
  },
  {
   "cell_type": "code",
   "execution_count": 20,
   "metadata": {
    "colab": {
     "base_uri": "https://localhost:8080/"
    },
    "executionInfo": {
     "elapsed": 24425,
     "status": "ok",
     "timestamp": 1724598474877,
     "user": {
      "displayName": "Prerna Rohra",
      "userId": "01587199954450201671"
     },
     "user_tz": -300
    },
    "id": "xjjMQa0oWh-Q",
    "outputId": "1f81f1d5-f3a7-49bd-b772-d271b6945935"
   },
   "outputs": [
    {
     "name": "stdout",
     "output_type": "stream",
     "text": [
      "\u001b[1m4/4\u001b[0m \u001b[32m━━━━━━━━━━━━━━━━━━━━\u001b[0m\u001b[37m\u001b[0m \u001b[1m8s\u001b[0m 1s/step  \n"
     ]
    }
   ],
   "source": [
    "predictions = model.predict(test_generator)"
   ]
  },
  {
   "cell_type": "code",
   "execution_count": 21,
   "metadata": {
    "executionInfo": {
     "elapsed": 469,
     "status": "ok",
     "timestamp": 1724598523275,
     "user": {
      "displayName": "Prerna Rohra",
      "userId": "01587199954450201671"
     },
     "user_tz": -300
    },
    "id": "7xA1qbVuWlge"
   },
   "outputs": [],
   "source": [
    "def load_and_preprocess_image(image_path, target_size=(224, 224)):\n",
    "    img = Image.open(image_path)\n",
    "    img = img.resize(target_size)\n",
    "    img_array = np.array(img) / 255.0\n",
    "    img_array = np.expand_dims(img_array, axis=0)\n",
    "    return img_array"
   ]
  },
  {
   "cell_type": "code",
   "execution_count": 22,
   "metadata": {
    "executionInfo": {
     "elapsed": 484,
     "status": "ok",
     "timestamp": 1724598527733,
     "user": {
      "displayName": "Prerna Rohra",
      "userId": "01587199954450201671"
     },
     "user_tz": -300
    },
    "id": "vAS5jJik0O2a"
   },
   "outputs": [],
   "source": [
    "def predict_currency(image_path, model):\n",
    "    preprocessed_image = load_and_preprocess_image(image_path)\n",
    "    prediction = model.predict(preprocessed_image)\n",
    "    if prediction[0][0] >= 0.5:\n",
    "       return \"Real Currency\"\n",
    "    else:\n",
    "       return \"Fake Currency\""
   ]
  },
  {
   "cell_type": "code",
   "execution_count": 23,
   "metadata": {
    "colab": {
     "base_uri": "https://localhost:8080/"
    },
    "executionInfo": {
     "elapsed": 3080,
     "status": "ok",
     "timestamp": 1724598589620,
     "user": {
      "displayName": "Prerna Rohra",
      "userId": "01587199954450201671"
     },
     "user_tz": -300
    },
    "id": "CCrdHT-Q0SqM",
    "outputId": "1c6ab68d-579a-480a-9225-340c9180c86e"
   },
   "outputs": [
    {
     "ename": "FileNotFoundError",
     "evalue": "[Errno 2] No such file or directory: 'C:\\\\content\\\\drive\\\\My Drive\\\\Indian Currency Dataset\\\\2000.jpg'",
     "output_type": "error",
     "traceback": [
      "\u001b[31m---------------------------------------------------------------------------\u001b[39m",
      "\u001b[31mFileNotFoundError\u001b[39m                         Traceback (most recent call last)",
      "\u001b[36mCell\u001b[39m\u001b[36m \u001b[39m\u001b[32mIn[23]\u001b[39m\u001b[32m, line 2\u001b[39m\n\u001b[32m      1\u001b[39m image_path = \u001b[33m'\u001b[39m\u001b[33m/content/drive/My Drive/Indian Currency Dataset/2000.jpg\u001b[39m\u001b[33m'\u001b[39m\n\u001b[32m----> \u001b[39m\u001b[32m2\u001b[39m result = \u001b[43mpredict_currency\u001b[49m\u001b[43m(\u001b[49m\u001b[43mimage_path\u001b[49m\u001b[43m,\u001b[49m\u001b[43m \u001b[49m\u001b[43mmodel\u001b[49m\u001b[43m)\u001b[49m\n\u001b[32m      3\u001b[39m \u001b[38;5;28mprint\u001b[39m(\u001b[33mf\u001b[39m\u001b[33m\"\u001b[39m\u001b[33mThe predicted result is: \u001b[39m\u001b[38;5;132;01m{\u001b[39;00mresult\u001b[38;5;132;01m}\u001b[39;00m\u001b[33m\"\u001b[39m)\n",
      "\u001b[36mCell\u001b[39m\u001b[36m \u001b[39m\u001b[32mIn[22]\u001b[39m\u001b[32m, line 2\u001b[39m, in \u001b[36mpredict_currency\u001b[39m\u001b[34m(image_path, model)\u001b[39m\n\u001b[32m      1\u001b[39m \u001b[38;5;28;01mdef\u001b[39;00m\u001b[38;5;250m \u001b[39m\u001b[34mpredict_currency\u001b[39m(image_path, model):\n\u001b[32m----> \u001b[39m\u001b[32m2\u001b[39m     preprocessed_image = \u001b[43mload_and_preprocess_image\u001b[49m\u001b[43m(\u001b[49m\u001b[43mimage_path\u001b[49m\u001b[43m)\u001b[49m\n\u001b[32m      3\u001b[39m     prediction = model.predict(preprocessed_image)\n\u001b[32m      4\u001b[39m     \u001b[38;5;28;01mif\u001b[39;00m prediction[\u001b[32m0\u001b[39m][\u001b[32m0\u001b[39m] >= \u001b[32m0.5\u001b[39m:\n",
      "\u001b[36mCell\u001b[39m\u001b[36m \u001b[39m\u001b[32mIn[21]\u001b[39m\u001b[32m, line 2\u001b[39m, in \u001b[36mload_and_preprocess_image\u001b[39m\u001b[34m(image_path, target_size)\u001b[39m\n\u001b[32m      1\u001b[39m \u001b[38;5;28;01mdef\u001b[39;00m\u001b[38;5;250m \u001b[39m\u001b[34mload_and_preprocess_image\u001b[39m(image_path, target_size=(\u001b[32m224\u001b[39m, \u001b[32m224\u001b[39m)):\n\u001b[32m----> \u001b[39m\u001b[32m2\u001b[39m     img = \u001b[43mImage\u001b[49m\u001b[43m.\u001b[49m\u001b[43mopen\u001b[49m\u001b[43m(\u001b[49m\u001b[43mimage_path\u001b[49m\u001b[43m)\u001b[49m\n\u001b[32m      3\u001b[39m     img = img.resize(target_size)\n\u001b[32m      4\u001b[39m     img_array = np.array(img) / \u001b[32m255.0\u001b[39m\n",
      "\u001b[36mFile \u001b[39m\u001b[32mc:\\Users\\AIR FORCE COMPUTER\\AppData\\Local\\Programs\\Python\\Python312\\Lib\\site-packages\\PIL\\Image.py:3431\u001b[39m, in \u001b[36mopen\u001b[39m\u001b[34m(fp, mode, formats)\u001b[39m\n\u001b[32m   3428\u001b[39m     filename = os.path.realpath(os.fspath(fp))\n\u001b[32m   3430\u001b[39m \u001b[38;5;28;01mif\u001b[39;00m filename:\n\u001b[32m-> \u001b[39m\u001b[32m3431\u001b[39m     fp = \u001b[43mbuiltins\u001b[49m\u001b[43m.\u001b[49m\u001b[43mopen\u001b[49m\u001b[43m(\u001b[49m\u001b[43mfilename\u001b[49m\u001b[43m,\u001b[49m\u001b[43m \u001b[49m\u001b[33;43m\"\u001b[39;49m\u001b[33;43mrb\u001b[39;49m\u001b[33;43m\"\u001b[39;49m\u001b[43m)\u001b[49m\n\u001b[32m   3432\u001b[39m     exclusive_fp = \u001b[38;5;28;01mTrue\u001b[39;00m\n\u001b[32m   3433\u001b[39m \u001b[38;5;28;01melse\u001b[39;00m:\n",
      "\u001b[31mFileNotFoundError\u001b[39m: [Errno 2] No such file or directory: 'C:\\\\content\\\\drive\\\\My Drive\\\\Indian Currency Dataset\\\\2000.jpg'"
     ]
    }
   ],
   "source": [
    "image_path = '/content/drive/My Drive/Indian Currency Dataset/2000.jpg'\n",
    "result = predict_currency(image_path, model)\n",
    "print(f\"The predicted result is: {result}\")"
   ]
  },
  {
   "cell_type": "code",
   "execution_count": null,
   "metadata": {
    "colab": {
     "base_uri": "https://localhost:8080/"
    },
    "executionInfo": {
     "elapsed": 1342,
     "status": "ok",
     "timestamp": 1724598801385,
     "user": {
      "displayName": "Prerna Rohra",
      "userId": "01587199954450201671"
     },
     "user_tz": -300
    },
    "id": "JkU8qNwR0VXB",
    "outputId": "cea5deab-c878-4571-8563-7703b0775be2"
   },
   "outputs": [
    {
     "name": "stdout",
     "output_type": "stream",
     "text": [
      "\u001b[1m1/1\u001b[0m \u001b[32m━━━━━━━━━━━━━━━━━━━━\u001b[0m\u001b[37m\u001b[0m \u001b[1m0s\u001b[0m 65ms/step\n",
      "The predicted result is: Fake Currency\n"
     ]
    }
   ],
   "source": [
    "image_path = '/content/drive/My Drive/Indian Currency Dataset/test (52).jpg'\n",
    "result = predict_currency(image_path, model)\n",
    "print(f\"The predicted result is: {result}\")"
   ]
  },
  {
   "cell_type": "code",
   "execution_count": null,
   "metadata": {
    "id": "B2WvrUEqsqoI"
   },
   "outputs": [],
   "source": []
  }
 ],
 "metadata": {
  "colab": {
   "authorship_tag": "ABX9TyM0cshhENKQwqXBTXmYCsbx",
   "provenance": []
  },
  "kernelspec": {
   "display_name": "Python 3",
   "name": "python3"
  },
  "language_info": {
   "codemirror_mode": {
    "name": "ipython",
    "version": 3
   },
   "file_extension": ".py",
   "mimetype": "text/x-python",
   "name": "python",
   "nbconvert_exporter": "python",
   "pygments_lexer": "ipython3",
   "version": "3.12.10"
  }
 },
 "nbformat": 4,
 "nbformat_minor": 0
}
